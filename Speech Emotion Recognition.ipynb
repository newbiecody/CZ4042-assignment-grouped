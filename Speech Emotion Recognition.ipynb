{
 "cells": [
  {
   "cell_type": "code",
   "execution_count": 2,
   "id": "a53e8326",
   "metadata": {},
   "outputs": [],
   "source": [
    "import os"
   ]
  },
  {
   "cell_type": "code",
   "execution_count": 6,
   "id": "265de142",
   "metadata": {},
   "outputs": [
    {
     "name": "stdout",
     "output_type": "stream",
     "text": [
      "Actor_01\n",
      "Actor_02\n",
      "Actor_03\n",
      "Actor_04\n",
      "Actor_05\n",
      "Actor_06\n",
      "Actor_07\n",
      "Actor_08\n",
      "Actor_09\n",
      "Actor_10\n",
      "Actor_11\n",
      "Actor_12\n",
      "Actor_13\n",
      "Actor_14\n",
      "Actor_15\n",
      "Actor_16\n",
      "Actor_17\n",
      "Actor_18\n",
      "Actor_19\n",
      "Actor_20\n",
      "Actor_21\n",
      "Actor_22\n",
      "Actor_23\n",
      "Actor_24\n",
      "audio_speech_actors_01-24\n"
     ]
    }
   ],
   "source": [
    "path = 'input/'\n",
    "dir = os.listdir(path)\n",
    "for file in dir:\n",
    "    print(file)"
   ]
  },
  {
   "cell_type": "code",
   "execution_count": null,
   "id": "ec6753a3",
   "metadata": {},
   "outputs": [],
   "source": []
  }
 ],
 "metadata": {
  "kernelspec": {
   "display_name": "Python 3 (ipykernel)",
   "language": "python",
   "name": "python3"
  },
  "language_info": {
   "codemirror_mode": {
    "name": "ipython",
    "version": 3
   },
   "file_extension": ".py",
   "mimetype": "text/x-python",
   "name": "python",
   "nbconvert_exporter": "python",
   "pygments_lexer": "ipython3",
   "version": "3.9.6"
  }
 },
 "nbformat": 4,
 "nbformat_minor": 5
}
