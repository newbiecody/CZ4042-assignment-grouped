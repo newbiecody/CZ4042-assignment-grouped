{
 "cells": [
  {
   "cell_type": "code",
   "execution_count": null,
   "id": "3eaad494",
   "metadata": {},
   "outputs": [],
   "source": [
    "import tensorflow\n",
    "import pandas as pd\n",
    "import time\n",
    "import numpy as np\n",
    "import os\n",
    "import matplotlib.pyplot as plt\n",
    "import statistics\n",
    "\n",
    "# tensorflow libraries\n",
    "import tensorflow as tf\n",
    "import tensorflow.keras as keras\n",
    "from tensorflow.keras import Sequential\n",
    "from tensorflow.keras.layers import Dense, Dropout, Input\n",
    "from tensorflow.keras.callbacks import Callback\n",
    "\n",
    "# sklearn libraries are useful for preprocessing, performance measures, etc.\n",
    "from sklearn import preprocessing\n",
    "from sklearn.model_selection import KFold\n",
    "from sklearn.model_selection import train_test_split"
   ]
  },
  {
   "cell_type": "code",
   "execution_count": null,
   "id": "8abd5977",
   "metadata": {},
   "outputs": [],
   "source": [
    "path = 'output/'\n",
    "dir = os.listdir(path)"
   ]
  },
  {
   "cell_type": "code",
   "execution_count": null,
   "id": "9da27bc4",
   "metadata": {},
   "outputs": [],
   "source": [
    "df_combined = pd.DataFrame()\n",
    "count = 0\n",
    "for file in dir:\n",
    "    if file[-4:] == '.csv':\n",
    "        df_current_file = pd.read_csv(f'{path}\\\\{file}')\n",
    "        number_of_rows = len(df_current_file.index)\n",
    "        labels = [f'{file[:-4]}' for x in range(number_of_rows)]\n",
    "        df_current_file['label'] = labels\n",
    "        if count == 0:\n",
    "            df_combined = df_current_file\n",
    "        else:\n",
    "            df_combined = pd.concat([df_combined, df_current_file])\n",
    "        count += 1\n",
    "df_combined = df_combined.drop(axis=1, columns = ['file', 'start', 'end'])"
   ]
  },
  {
   "cell_type": "code",
   "execution_count": null,
   "id": "2e37e4e6",
   "metadata": {},
   "outputs": [],
   "source": [
    "def prepare_dataset(df, test_size, random_state):\n",
    "\n",
    "    # Encode the labels from 0 to n_classes-1  \n",
    "    label_encoder = preprocessing.LabelEncoder()\n",
    "    df['label'] = label_encoder.fit_transform(df['label'])\n",
    "  \n",
    "    # devide data to train and test\n",
    "    df_train, df_test = train_test_split(df, test_size=test_size, random_state = random_state)\n",
    "    \n",
    "    # scale the training inputs\n",
    "    x_train = df_train.drop(axis = 1, columns = ['label'])\n",
    "    y_train = df_train['label'].to_numpy()\n",
    "    \n",
    "    standard_scaler = preprocessing.StandardScaler()\n",
    "    x_train_scaled = standard_scaler.fit_transform(x_train)\n",
    "\n",
    "    #scale and prepare testing data\n",
    "    x_test = df_test.drop(axis = 1, columns = ['label'])\n",
    "    x_test_scaled = standard_scaler.transform(x_test)\n",
    "    y_test = df_test['label'].to_numpy() \n",
    "  \n",
    "    return x_train_scaled, y_train, x_test_scaled, y_test"
   ]
  },
  {
   "cell_type": "code",
   "execution_count": null,
   "id": "e5b65417",
   "metadata": {},
   "outputs": [],
   "source": [
    "X_train, y_train, X_test, y_test = prepare_dataset(df_combined, test_size=0.3, random_state=0)\n",
    "\n",
    "print(X_train.shape, y_train.shape)\n",
    "print(X_test.shape, y_test.shape)"
   ]
  },
  {
   "cell_type": "code",
   "execution_count": null,
   "id": "13bc8f26",
   "metadata": {},
   "outputs": [],
   "source": [
    "model = Sequential([\n",
    "    Input(988),\n",
    "#    Dropout(0.3),\n",
    "    conv2d(663, activation = 'relu'),\n",
    "    Dense(10, activation = 'softmax')\n",
    "])\n",
    "\n",
    "model.compile(optimizer='adam',\n",
    "              loss='sparse_categorical_crossentropy', \n",
    "              metrics=['accuracy'])"
   ]
  },
  {
   "cell_type": "code",
   "execution_count": null,
   "id": "41d925ca",
   "metadata": {},
   "outputs": [],
   "source": [
    "batchSize = 1\n",
    "epochs = 50\n",
    "\n",
    "history = model1.fit(X_train, y_train,\n",
    "                    batch_size=batchSize,\n",
    "                    epochs=epochs,\n",
    "                    verbose=2,\n",
    "                    use_multiprocessing = True,\n",
    "                    validation_data=(X_test, y_test))"
   ]
  }
 ],
 "metadata": {
  "kernelspec": {
   "display_name": "Python 3 (ipykernel)",
   "language": "python",
   "name": "python3"
  },
  "language_info": {
   "codemirror_mode": {
    "name": "ipython",
    "version": 3
   },
   "file_extension": ".py",
   "mimetype": "text/x-python",
   "name": "python",
   "nbconvert_exporter": "python",
   "pygments_lexer": "ipython3",
   "version": "3.9.6"
  }
 },
 "nbformat": 4,
 "nbformat_minor": 5
}
